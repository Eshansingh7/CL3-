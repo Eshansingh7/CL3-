{
 "cells": [
  {
   "cell_type": "code",
   "execution_count": 1,
   "id": "8039417c-aa31-42d6-a989-93e237784ef6",
   "metadata": {},
   "outputs": [
    {
     "name": "stdout",
     "output_type": "stream",
     "text": [
      "Best parameters found: [0.46290392 0.46610933 0.6135187 ]\n"
     ]
    }
   ],
   "source": [
    "import numpy as np\n",
    "from sklearn.neural_network import MLPRegressor\n",
    "from sklearn.model_selection import train_test_split\n",
    " \n",
    "\n",
    "class GeneticAlgorithm:\n",
    "   def __init__(self, population_size, mutation_rate, generations):\n",
    "       self.population_size = population_size\n",
    "       self.mutation_rate = mutation_rate\n",
    "       self.generations = generations\n",
    " \n",
    "   def create_population(self):\n",
    "       return np.random.rand(self.population_size, 3)  # Example: 3 parameters\n",
    " \n",
    "   def fitness(self, individual):\n",
    "       # Example: Train a neural network and return a fitness score\n",
    "       X = np.random.rand(100, 3)  # Example input data\n",
    "       y = np.random.rand(100)      # Example output data\n",
    "       X_train, X_test, y_train, y_test = train_test_split(X, y, test_size=0.2)\n",
    "      \n",
    "       model = MLPRegressor(hidden_layer_sizes=(10,), max_iter=1000)\n",
    "       model.fit(X_train, y_train)\n",
    "       return model.score(X_test, y_test)  # Return R^2 score as fitness\n",
    " \n",
    "   def mutate(self, individual):\n",
    "       for i in range(len(individual)):\n",
    "           if np.random.rand() < self.mutation_rate:\n",
    "               individual[i] += np.random.normal(0, 0.1)  # Example mutation\n",
    "       return individual\n",
    " \n",
    "   def crossover(self, parent1, parent2):\n",
    "       return np.array([(p1 + p2) / 2 for p1, p2 in zip(parent1, parent2)])  # Simple average crossover\n",
    " \n",
    "   def run(self):\n",
    "       population = self.create_population()\n",
    "       for generation in range(self.generations):\n",
    "           fitness_scores = np.array([self.fitness(ind) for ind in population])\n",
    "           sorted_indices = np.argsort(fitness_scores)[::-1]\n",
    "           population = population[sorted_indices]  # Select the best individuals\n",
    "          \n",
    "           # Create new population\n",
    "           new_population = []\n",
    "           for i in range(0, self.population_size, 2):\n",
    "               parent1, parent2 = population[i], population[i + 1]\n",
    "               child1 = self.crossover(parent1, parent2)\n",
    "               child2 = self.crossover(parent2, parent1)\n",
    "               new_population.append(self.mutate(child1))\n",
    "               new_population.append(self.mutate(child2))\n",
    "           population = np.array(new_population)\n",
    " \n",
    "       best_individual = population[0]\n",
    "       return best_individual\n",
    "       \n",
    "if __name__ == \"__main__\":  # Corrected if condition\n",
    "   ga = GeneticAlgorithm(population_size=20, mutation_rate=0.1, generations=50)\n",
    "   best_params = ga.run()\n",
    "   print(\"Best parameters found:\", best_params)"
   ]
  },
  {
   "cell_type": "code",
   "execution_count": null,
   "id": "385fef58-d45e-4265-9a88-3da64cfffb6b",
   "metadata": {},
   "outputs": [],
   "source": []
  }
 ],
 "metadata": {
  "kernelspec": {
   "display_name": "Python [conda env:base] *",
   "language": "python",
   "name": "conda-base-py"
  },
  "language_info": {
   "codemirror_mode": {
    "name": "ipython",
    "version": 3
   },
   "file_extension": ".py",
   "mimetype": "text/x-python",
   "name": "python",
   "nbconvert_exporter": "python",
   "pygments_lexer": "ipython3",
   "version": "3.12.7"
  }
 },
 "nbformat": 4,
 "nbformat_minor": 5
}
