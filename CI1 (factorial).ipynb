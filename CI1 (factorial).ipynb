{
 "cells": [
  {
   "cell_type": "code",
   "execution_count": 1,
   "id": "70eadb74-b4e5-4d14-bbf9-4d139824885c",
   "metadata": {},
   "outputs": [
    {
     "name": "stdout",
     "output_type": "stream",
     "text": [
      "Server is running...\n"
     ]
    },
    {
     "name": "stdin",
     "output_type": "stream",
     "text": [
      "Enter an integer to calculate its factorial:  5\n"
     ]
    },
    {
     "name": "stdout",
     "output_type": "stream",
     "text": [
      "The factorial of 5 is 120\n"
     ]
    },
    {
     "name": "stderr",
     "output_type": "stream",
     "text": [
      "127.0.0.1 - - [03/May/2025 15:01:08] \"POST /RPC2 HTTP/1.1\" 200 -\n"
     ]
    }
   ],
   "source": [
    "# server.py (cell 1) \n",
    "import xmlrpc.server \n",
    "import threading \n",
    " \n",
    "# Function to calculate factorial \n",
    "def factorial(n): \n",
    "    if n < 0: \n",
    "        raise ValueError(\"Factorial is not defined for negative numbers.\") \n",
    "    if n > 100:  # Limit the maximum number to 100 \n",
    "        raise ValueError(\"Input is too large! Try a smaller number.\") \n",
    "     \n",
    "    if n == 0 or n == 1: \n",
    "        return 1 \n",
    "    else: \n",
    "        return n * factorial(n - 1) \n",
    " \n",
    "# Function to start the server \n",
    "def start_server(): \n",
    "    with xmlrpc.server.SimpleXMLRPCServer(('localhost', 8000)) as server: \n",
    "        print(\"Server is running...\") \n",
    "        server.register_function(factorial, 'factorial') \n",
    "        server.serve_forever() \n",
    " \n",
    "# Running the server in a separate thread \n",
    "server_thread = threading.Thread(target=start_server) \n",
    "server_thread.daemon = True \n",
    "server_thread.start() \n",
    " \n",
    "# client.py (cell 2) \n",
    "import xmlrpc.client \n",
    " \n",
    "# Create a connection to the server \n",
    "server = xmlrpc.client.ServerProxy('http://localhost:8000') \n",
    " \n",
    "# Request input from the user (for Jupyter, use input()) \n",
    "number = int(input(\"Enter an integer to calculate its factorial: \")) \n",
    " \n",
    "# Call the remote procedure (factorial) and print the result \n",
    "result = server.factorial(number) \n",
    "print(f\"The factorial of {number} is {result}\")"
   ]
  },
  {
   "cell_type": "code",
   "execution_count": null,
   "id": "e8b050bc-43bf-4330-aff4-8c47d7f599b7",
   "metadata": {},
   "outputs": [],
   "source": []
  }
 ],
 "metadata": {
  "kernelspec": {
   "display_name": "Python [conda env:base] *",
   "language": "python",
   "name": "conda-base-py"
  },
  "language_info": {
   "codemirror_mode": {
    "name": "ipython",
    "version": 3
   },
   "file_extension": ".py",
   "mimetype": "text/x-python",
   "name": "python",
   "nbconvert_exporter": "python",
   "pygments_lexer": "ipython3",
   "version": "3.12.7"
  }
 },
 "nbformat": 4,
 "nbformat_minor": 5
}
