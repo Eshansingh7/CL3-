{
 "cells": [
  {
   "cell_type": "code",
   "execution_count": 1,
   "id": "e82b48cb-3cc1-4d8b-8a37-9a7a96a6fd88",
   "metadata": {},
   "outputs": [
    {
     "name": "stdout",
     "output_type": "stream",
     "text": [
      "Union: [0.3 0.6 0.8]\n",
      "Intersection: [0.2 0.5 0.7]\n",
      "Complement of A: [0.8 0.5 0.2]\n",
      "Difference A - B: [0.2 0.4 0.3]\n",
      "Fuzzy Relation R (Cartesian product of A and B):\n",
      "[[0.06 0.12 0.14]\n",
      " [0.15 0.3  0.35]\n",
      " [0.24 0.48 0.56]]\n",
      "Fuzzy Relation S (Cartesian product of C and D):\n",
      "[[0.02 0.05 0.08]\n",
      " [0.08 0.2  0.32]\n",
      " [0.18 0.45 0.72]]\n",
      "Max-Min Composition of R and S:\n",
      "[[0.08 0.14 0.14]\n",
      " [0.08 0.32 0.35]\n",
      " [0.08 0.32 0.56]]\n"
     ]
    }
   ],
   "source": [
    "import numpy as np\n",
    "def fuzzy_union(A, B):\n",
    "    return np.maximum(A, B)\n",
    " \n",
    "def fuzzy_intersection(A, B):\n",
    "    return np.minimum(A, B)\n",
    " \n",
    "def fuzzy_complement(A):\n",
    "    return 1 - A\n",
    " \n",
    "def fuzzy_difference(A, B):\n",
    "    return np.minimum(A, 1 - B)\n",
    " \n",
    "\n",
    "def cartesian_product(A, B):\n",
    "    return np.outer(A, B)\n",
    " \n",
    "def max_min_composition(R, S):\n",
    "    return np.max(np.minimum(R[:, np.newaxis, :], S[np.newaxis, :, :]), axis=2)\n",
    " \n",
    "\n",
    "# Define two fuzzy sets\n",
    "A = np.array([0.2, 0.5, 0.8])\n",
    "B = np.array([0.3, 0.6, 0.7])\n",
    " \n",
    "# Perform operations\n",
    "union_result = fuzzy_union(A, B)\n",
    "intersection_result = fuzzy_intersection(A, B)\n",
    "complement_A = fuzzy_complement(A)\n",
    "difference_A_B = fuzzy_difference(A, B)\n",
    " \n",
    "# Display results\n",
    "print(\"Union:\", union_result)\n",
    "print(\"Intersection:\", intersection_result)\n",
    "print(\"Complement of A:\", complement_A)\n",
    "print(\"Difference A - B:\", difference_A_B)\n",
    " \n",
    "\n",
    "# Define two fuzzy sets for Cartesian product\n",
    "C = np.array([0.1, 0.4, 0.9])\n",
    "D = np.array([0.2, 0.5, 0.8])\n",
    " \n",
    "# Create fuzzy relations using Cartesian product\n",
    "R = cartesian_product(A, B)\n",
    "S = cartesian_product(C, D)\n",
    " \n",
    "# Perform max-min composition\n",
    "composition_result = max_min_composition(R, S)\n",
    " \n",
    "# Display results\n",
    "print(\"Fuzzy Relation R (Cartesian product of A and B):\")\n",
    "print(R)\n",
    "print(\"Fuzzy Relation S (Cartesian product of C and D):\")\n",
    "print(S)\n",
    "print(\"Max-Min Composition of R and S:\")\n",
    "print(composition_result)"
   ]
  },
  {
   "cell_type": "code",
   "execution_count": null,
   "id": "756009c0-c566-4a07-b94a-05ee470bd212",
   "metadata": {},
   "outputs": [],
   "source": []
  }
 ],
 "metadata": {
  "kernelspec": {
   "display_name": "Python [conda env:base] *",
   "language": "python",
   "name": "conda-base-py"
  },
  "language_info": {
   "codemirror_mode": {
    "name": "ipython",
    "version": 3
   },
   "file_extension": ".py",
   "mimetype": "text/x-python",
   "name": "python",
   "nbconvert_exporter": "python",
   "pygments_lexer": "ipython3",
   "version": "3.12.7"
  }
 },
 "nbformat": 4,
 "nbformat_minor": 5
}
